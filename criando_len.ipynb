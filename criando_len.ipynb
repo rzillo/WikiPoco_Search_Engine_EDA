{
  "nbformat": 4,
  "nbformat_minor": 0,
  "metadata": {
    "colab": {
      "name": "criando_len.ipynb",
      "provenance": []
    },
    "kernelspec": {
      "name": "python3",
      "display_name": "Python 3"
    }
  },
  "cells": [
    {
      "cell_type": "code",
      "metadata": {
        "id": "gVt1r0Sb2g5M",
        "colab_type": "code",
        "colab": {}
      },
      "source": [
        "import os\n",
        "import string"
      ],
      "execution_count": null,
      "outputs": []
    },
    {
      "cell_type": "code",
      "metadata": {
        "id": "7xaJl5nV2sac",
        "colab_type": "code",
        "colab": {}
      },
      "source": [
        "!pwd"
      ],
      "execution_count": null,
      "outputs": []
    },
    {
      "cell_type": "code",
      "metadata": {
        "id": "YexUjGoJ2siv",
        "colab_type": "code",
        "colab": {}
      },
      "source": [
        "os.chdir('./wiki_files/')"
      ],
      "execution_count": null,
      "outputs": []
    },
    {
      "cell_type": "code",
      "metadata": {
        "id": "PQXX-e1l2slt",
        "colab_type": "code",
        "colab": {}
      },
      "source": [
        "def get_index(s):\n",
        "    #retorna o valor do dbindex localizado na tag\n",
        "    x = s.index('dbindex')\n",
        "    i = 9\n",
        "    w = ''\n",
        "    while (s[x + i] != '\"'):\n",
        "        w = w + s[x + i]\n",
        "        i += 1\n",
        "    return int(w)"
      ],
      "execution_count": null,
      "outputs": []
    },
    {
      "cell_type": "code",
      "metadata": {
        "id": "Uxcftkxm2sog",
        "colab_type": "code",
        "colab": {}
      },
      "source": [
        "linhas = dict()\n",
        "line = -1\n",
        "for i in os.listdir():\n",
        "    file = open(i, mode='r', encoding='iso8859-15')\n",
        "    for j in file:\n",
        "        if (j[0:4] == '<doc'):\n",
        "            index = get_index(j)\n",
        "        line += 1\n",
        "        if (j[0:5] == '</doc'):\n",
        "            linhas[index] = line\n",
        "            line = -1"
      ],
      "execution_count": null,
      "outputs": []
    },
    {
      "cell_type": "code",
      "metadata": {
        "id": "lYd-6r022srT",
        "colab_type": "code",
        "colab": {}
      },
      "source": [
        "# agora as tags  de cada doc possuem um \n",
        "#len relacionado a quantidade de linhas do doc\n",
        "\n",
        "for i in os.listdir():\n",
        "    if i not in os.listdir('../'):\n",
        "        file_ant = open(i, mode='r', encoding='iso8859-15')\n",
        "        file_n = open('../'+i, mode='w', encoding='iso8859-15')\n",
        "        for j in file_ant:\n",
        "            if (j[0:4] == '<doc'):\n",
        "                file_n.write(j[0:-2] + ' len=\"' + str(linhas[get_index(j)]) + '\">\\n')\n",
        "            else:\n",
        "                file_n.write(j)"
      ],
      "execution_count": null,
      "outputs": []
    },
    {
      "cell_type": "code",
      "metadata": {
        "id": "1ykeZgkH3gp3",
        "colab_type": "code",
        "colab": {}
      },
      "source": [
        "char = set()\n",
        "for i in os.listdir():\n",
        "    arq = open(i, mode='r', encoding='iso8859-15')\n",
        "    x = arq.read()\n",
        "    x = x.split()\n",
        "    x = set(x)\n",
        "    for j in x:\n",
        "        char = char.union(set(j))"
      ],
      "execution_count": null,
      "outputs": []
    }
  ]
}